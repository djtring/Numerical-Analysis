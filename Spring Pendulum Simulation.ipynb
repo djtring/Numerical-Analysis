{
 "cells": [
  {
   "cell_type": "code",
   "execution_count": 1,
   "metadata": {},
   "outputs": [
    {
     "name": "stdout",
     "output_type": "stream",
     "text": [
      "pygame 2.4.0 (SDL 2.26.4, Python 3.9.2)\n",
      "Hello from the pygame community. https://www.pygame.org/contribute.html\n"
     ]
    }
   ],
   "source": [
    "import pygame\n",
    "import sys\n",
    "from pygame.locals import *\n",
    "from math import sin, cos, tan, pi\n",
    "import numpy as np\n",
    "from numpy.linalg import inv\n",
    "from spring import spring"
   ]
  },
  {
   "attachments": {},
   "cell_type": "markdown",
   "metadata": {},
   "source": [
    "__Spring Pendulum Simulation__\n",
    "\n",
    "Numerical methods are not only necessary to solve any equation that cant be solved analytically but in code its impossible to do anything but a numerical solution. Here we use RK4 to numerically solve the spring pendulum EOM to be able to simulate it in a cool anamation.\n",
    "\n",
    "Feel free to mess with the variables and inital conditions and see how the simulation changes!\n",
    "\n",
    "When the simulation is running press T to turn the path tracing on and off, press C to reset the tracing, and press Q to quit the simulation. The kernel may crash after quitting the program so press the \"restart\" button at the top to reset the Kernel to run the program again. Enjoy!"
   ]
  },
  {
   "attachments": {},
   "cell_type": "markdown",
   "metadata": {},
   "source": [
    "**Setting up Variables and Initial Conditions** "
   ]
  },
  {
   "cell_type": "code",
   "execution_count": 2,
   "metadata": {},
   "outputs": [],
   "source": [
    "# variables\n",
    "m = 6.0 # kg\n",
    "l0 = 3.5 # m\n",
    "g = 9.81 # m/s^2\n",
    "k = 100.0 # N/m\n",
    "\n",
    "prev_point = None\n",
    "t = 0.0 # s\n",
    "delta_t = 0.02 # s\n",
    "\n",
    "# ICS [dx, dtheta, x, theta]\n",
    "y = np.array([0.0, 0.0*np.pi, 0.0, 0.5*np.pi])"
   ]
  },
  {
   "attachments": {},
   "cell_type": "markdown",
   "metadata": {},
   "source": [
    "**Simulation set up and RK4**"
   ]
  },
  {
   "cell_type": "code",
   "execution_count": 3,
   "metadata": {},
   "outputs": [],
   "source": [
    "class Spring():\n",
    "\tdef __init__(self, color, start, end, nodes, width, lead1, lead2):\n",
    "\t\tself.start = start\n",
    "\t\tself.end = end\n",
    "\t\tself.nodes = nodes\n",
    "\t\tself.width = width\n",
    "\t\tself.lead1 = lead1\n",
    "\t\tself.lead2 = lead2\n",
    "\t\tself.weight = 3\n",
    "\t\tself.color = color\n",
    "\n",
    "\tdef update(self, start, end):\n",
    "\t\tself.start = start\n",
    "\t\tself.end = end\n",
    "\n",
    "\t\tself.x, self.y, self.p1, self.p2 = spring(self.start, self.end, self.nodes, self.width, self.lead1, self.lead2)\n",
    "\t\tself.p1 = (int(self.p1[0]), int(self.p1[1]))\n",
    "\t\tself.p2 = (int(self.p2[0]), int(self.p2[1]))\n",
    "\n",
    "\tdef render(self):\n",
    "\t\tpygame.draw.line(screen, self.color, self.start, self.p1, self.weight)\n",
    "\t\tprev_point = self.p1\n",
    "\t\tfor point in zip(self.x, self.y):\n",
    "\t\t\tpygame.draw.line(screen, self.color, prev_point, point, self.weight)\n",
    "\t\t\tprev_point = point\n",
    "\t\tpygame.draw.line(screen, self.color, self.p2, self.end, self.weight)\n",
    "\t\n",
    "\n",
    "def G(y,t): \n",
    "\tx_d, θ_d, x, θ = y[0], y[1], y[2], y[3]\n",
    "\n",
    "\tx_dd = (l0+x) * θ_d**2 - k/m*x + g*cos(θ) # EOM\n",
    "\tθ_dd = -2.0/(l0+x) * x_d * θ_d - g/(l0+x) * sin(θ) # EOM\n",
    "\n",
    "\treturn np.array([x_dd, θ_dd, x_d, θ_d])\n",
    "\n",
    "def RK4_step(y, t, dt):\n",
    "\tk1 = G(y,t)\n",
    "\tk2 = G(y+0.5*k1*dt, t+0.5*dt)\n",
    "\tk3 = G(y+0.5*k2*dt, t+0.5*dt)\n",
    "\tk4 = G(y+k3*dt, t+dt)\n",
    "\n",
    "\treturn dt * (k1 + 2*k2 + 2*k3 + k4) / 6\n",
    "\n",
    "def update(x, θ):\n",
    "\tx_coord = scale*(l0+x) * sin(θ) + offset[0]\n",
    "\ty_coord = scale*(l0+x) * cos(θ) + offset[1]\n",
    "\n",
    "\treturn (int(x_coord), int(y_coord))\n",
    "\n",
    "def render(point):\n",
    "\tx, y = point[0], point[1]\n",
    "\n",
    "\tif prev_point:\n",
    "\t\tpygame.draw.line(trace, LT_BLUE, prev_point, (x, y), 5)\n",
    "\n",
    "\tscreen.fill(WHITE)\t\n",
    "\tif is_tracing:\n",
    "\t\tscreen.blit(trace, (0,0))\n",
    "\n",
    "\t# pygame.draw.line(screen, BLACK, offset, (x,y), 5)\n",
    "\ts.update(offset, point)\n",
    "\ts.render()\n",
    "\tpygame.draw.circle(screen, BLACK, offset, 8)\n",
    "\tpygame.draw.circle(screen, BLUE, (x, y), int(m*10))\n",
    "\n",
    "\treturn (x, y)\n",
    "\n",
    "w, h = 1024, 768\n",
    "WHITE = (255,255,255)\n",
    "BLACK = (0,0,0)\n",
    "RED = (255,0,0)\n",
    "BLUE = (0,0,255)\n",
    "LT_BLUE = (230,230,255)\n",
    "offset = (w//2, h//4)\n",
    "scale = 100\n",
    "is_tracing = True\n",
    "\n",
    "screen = pygame.display.set_mode((w,h))\n",
    "screen.fill(WHITE)\n",
    "trace = screen.copy()\n",
    "pygame.display.update()\n",
    "clock = pygame.time.Clock()"
   ]
  },
  {
   "attachments": {},
   "cell_type": "markdown",
   "metadata": {},
   "source": [
    "**Simulation**"
   ]
  },
  {
   "cell_type": "code",
   "execution_count": 4,
   "metadata": {},
   "outputs": [],
   "source": [
    "pygame.font.init()\n",
    "myfont = pygame.font.SysFont('Comic Sans MS', 38)\n",
    "\n",
    "s = Spring(BLACK, (0,0), (0,0), 25, 30, 90, 90)\n",
    "\n",
    "running = True\n",
    "while running:\n",
    "\tfor event in pygame.event.get():\n",
    "\n",
    "\t\tif event.type == pygame.QUIT:\n",
    "\t\t\trunning = False\n",
    "\t\t\tsys.exit()\n",
    "\n",
    "\t\tif event.type == KEYDOWN:\n",
    "\t\t\tif event.key == K_t:\n",
    "\t\t\t\tis_tracing = not(is_tracing)\n",
    "\t\t\tif event.key == K_c:\n",
    "\t\t\t\ttrace.fill(WHITE)\n",
    "\t\t\tif event.key == K_q:\n",
    "\t\t\t\trunning = False\n",
    "\t\t\t\t# sys.exit()\n",
    "\n",
    "\tpoint = update(y[2], y[3])\n",
    "\tprev_point = render(point)\n",
    "\n",
    "\ttime_string = 'Time: {} seconds'.format(round(t,1))\n",
    "\ttext = myfont.render(time_string, False, (0, 0, 0))\n",
    "\tscreen.blit(text, (10,10))\n",
    "\n",
    "\tt += delta_t\n",
    "\ty = y + RK4_step(y, t, delta_t) \n",
    "\n",
    "\tclock.tick(60)\n",
    "\tpygame.display.update()\n",
    "\n",
    "pygame.quit()"
   ]
  }
 ],
 "metadata": {
  "kernelspec": {
   "display_name": "Python 3",
   "language": "python",
   "name": "python3"
  },
  "language_info": {
   "codemirror_mode": {
    "name": "ipython",
    "version": 3
   },
   "file_extension": ".py",
   "mimetype": "text/x-python",
   "name": "python",
   "nbconvert_exporter": "python",
   "pygments_lexer": "ipython3",
   "version": "3.9.2"
  },
  "orig_nbformat": 4
 },
 "nbformat": 4,
 "nbformat_minor": 2
}
